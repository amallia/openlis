{
 "cells": [
  {
   "cell_type": "markdown",
   "metadata": {},
   "source": [
    "# openlis usage example"
   ]
  },
  {
   "cell_type": "code",
   "execution_count": 1,
   "metadata": {
    "collapsed": true
   },
   "outputs": [],
   "source": [
    "import openlis\n",
    "import openlis.data\n",
    "import openlis.model\n",
    "import openlis.database\n",
    "li = openlis\n",
    "import numpy as np"
   ]
  },
  {
   "cell_type": "markdown",
   "metadata": {},
   "source": [
    "## Set up dataset"
   ]
  },
  {
   "cell_type": "code",
   "execution_count": 2,
   "metadata": {
    "collapsed": true
   },
   "outputs": [],
   "source": [
    "## Generate a dataset of a 100,000 uniform floats betweeo 0.0 and 1.0\n",
    "\n",
    "num_keys = 100000\n",
    "key_range = [0.0, 1.0]\n",
    "raw_data_set = li.data.generate_uniform_floats(num_keys, \n",
    "                                                        key_range, \n",
    "                                                        iseed=17)"
   ]
  },
  {
   "cell_type": "code",
   "execution_count": 3,
   "metadata": {
    "collapsed": true
   },
   "outputs": [],
   "source": [
    "## Split into train/validate, using 100% for training (no validation needed)\n",
    "\n",
    "data_sets = li.data.create_train_validate_data_sets(raw_data_set, validation_size=0)"
   ]
  },
  {
   "cell_type": "markdown",
   "metadata": {},
   "source": [
    "## Create a recursive-model index "
   ]
  },
  {
   "cell_type": "code",
   "execution_count": 4,
   "metadata": {
    "collapsed": true
   },
   "outputs": [],
   "source": [
    "## Create a Recursive-model index based on the training data set\n",
    "\n",
    "rmi = li.model.RMI_simple(data_sets.train,\n",
    "                          hidden_layer_widths=[8,8],\n",
    "                          num_experts=100)"
   ]
  },
  {
   "cell_type": "markdown",
   "metadata": {},
   "source": [
    "## Create database interface to that model"
   ]
  },
  {
   "cell_type": "code",
   "execution_count": 5,
   "metadata": {
    "collapsed": true
   },
   "outputs": [],
   "source": [
    "## Create a learned index structure, which can be used like a database.\n",
    "## Choose either IndexStructurePacked or IndexStructureGapped.\n",
    "\n",
    "# IndexStructureGapped is faster for insertions and deletions.\n",
    "rmi_db = li.database.IndexStructureGapped(model=rmi, scale=3)\n",
    "# If using IndexStructureGapped, you can rescale the array at any time.\n",
    "rmi_db.rescale(scale=2)\n",
    "\n",
    "# IndexStructurePacked uses less space.\n",
    "# Comment the above code and uncomment the following code if you \n",
    "# want to use IndexStructurePacked instead.\n",
    "#rmi_db = li.database.IndexStructurePacked(model=rmi)"
   ]
  },
  {
   "cell_type": "markdown",
   "metadata": {},
   "source": [
    "## Train the model"
   ]
  },
  {
   "cell_type": "code",
   "execution_count": 6,
   "metadata": {},
   "outputs": [
    {
     "name": "stdout",
     "output_type": "stream",
     "text": [
      "Stage 1 Training:\n",
      "Step 0: loss = 63851.57 (0.054 sec, total 0.054 secs)\n",
      "Step 100: loss = 41941.07 (0.008 sec, total 0.480 secs)\n",
      "Step 200: loss = 28179.98 (0.008 sec, total 0.900 secs)\n",
      "Step 300: loss = 21735.10 (0.008 sec, total 1.328 secs)\n",
      "Step 400: loss = 17722.35 (0.008 sec, total 1.835 secs)\n",
      "\n",
      "Stage 2 Training:\n",
      "Step 0: loss = 107819.66 (0.064 sec, total 2.518 secs)\n",
      "Step 100: loss = 20163.71 (0.012 sec, total 3.477 secs)\n",
      "Step 200: loss = 2616.37 (0.012 sec, total 4.408 secs)\n",
      "Step 300: loss = 1140.00 (0.012 sec, total 5.373 secs)\n",
      "Step 400: loss = 1063.47 (0.012 sec, total 6.321 secs)\n",
      "INFO:tensorflow:Restoring parameters from tf_checkpoints_example/stage_2.ckpt\n"
     ]
    }
   ],
   "source": [
    "## Train the database\n",
    "\n",
    "# May need to try different batch_sizes, max_steps, learning rates.\n",
    "# Each is an array with two elements (for Stage 1 and Stage 2).\n",
    "\n",
    "# Note that rmi_db.train() not only trains the model, but also\n",
    "# calculates and saves the maximum errors for each \"expert\" and \n",
    "# saves the trained weights and biases for use in fast Numpy \n",
    "# inference calculations. Basically, this function does everything\n",
    "# needed to get Select, Insert, and Delete ready to work.\n",
    "\n",
    "rmi_db.train(batch_sizes=[10000,1000],\n",
    "             max_steps=[500,500],\n",
    "             learning_rates=[0.001,1000],\n",
    "             model_save_dir='tf_checkpoints_example')"
   ]
  },
  {
   "cell_type": "markdown",
   "metadata": {},
   "source": [
    "## Select, example usage"
   ]
  },
  {
   "cell_type": "code",
   "execution_count": 7,
   "metadata": {},
   "outputs": [
    {
     "name": "stdout",
     "output_type": "stream",
     "text": [
      "Select single key:\n",
      " Key: 0.1540215085518002\n",
      " Pos: 30952\n",
      "\n",
      "Select multiple keys:\n",
      "Keys: [ 0.15402151  0.1999664   0.71770092  0.21420649  0.42162701]\n",
      " Pos: [ 30952  40236 143842  42996  84788]\n",
      "\n",
      "Select non-existing key:\n",
      "Keys: 17.0\n",
      " Pos: -1\n",
      "Note: Pos=-1 indicates that the key is not in the dataset.\n"
     ]
    }
   ],
   "source": [
    "## Use Select, some examples\n",
    "\n",
    "# Select single key\n",
    "keys = np.array(data_sets.train.keys[0])\n",
    "pos = rmi_db.select(keys)\n",
    "print(\"Select single key:\")\n",
    "print(\" Key: {}\\n Pos: {}\\n\".format(np.squeeze(keys),np.squeeze(pos)))\n",
    "\n",
    "# Select multiple keys\n",
    "keys = np.array(data_sets.train.keys[0:5])\n",
    "pos = rmi_db.select(keys)\n",
    "print(\"Select multiple keys:\")\n",
    "print(\"Keys: {}\\n Pos: {}\\n\".format(np.squeeze(keys),np.squeeze(pos)))\n",
    "\n",
    "# Select non-existing key\n",
    "keys = [17.0]\n",
    "pos = rmi_db.select(keys)\n",
    "print(\"Select non-existing key:\")\n",
    "print(\"Keys: {}\\n Pos: {}\".format(np.squeeze(keys),np.squeeze(pos)))\n",
    "\n",
    "print(\"Note: Pos=-1 indicates that the key is not in the dataset.\")"
   ]
  },
  {
   "cell_type": "markdown",
   "metadata": {},
   "source": [
    "## Insert, example usage"
   ]
  },
  {
   "cell_type": "code",
   "execution_count": 8,
   "metadata": {},
   "outputs": [
    {
     "name": "stdout",
     "output_type": "stream",
     "text": [
      "Insert single key:\n",
      " Success: True\n",
      " Key: 0.5\n",
      " Pos: 100229\n",
      "\n",
      "Insert multiple keys:\n",
      " Success: [ True  True  True  True  True  True]\n",
      " Keys: [-42.  -17.    0.2   0.8  17.   42. ]\n",
      " Pos: [     0      1  40239 160371 199998 199999]\n",
      "\n",
      "Insert existing key:\n",
      " Success: False\n",
      " Keys: 0.5\n",
      " Pos: 100229\n",
      "\n"
     ]
    }
   ],
   "source": [
    "## Use Insert, some examples\n",
    "\n",
    "# Insert single key\n",
    "keys = np.array([0.5])\n",
    "success = rmi_db.insert(keys)\n",
    "pos = rmi_db.select(keys)\n",
    "print(\"Insert single key:\")\n",
    "print(\" Success: {}\\n Key: {}\\n Pos: {}\\n\".format(np.squeeze(success),\n",
    "                                                   np.squeeze(keys),\n",
    "                                                   np.squeeze(pos)))\n",
    "\n",
    "# Insert multiple keys\n",
    "keys = np.array([-42.0, -17.0, 0.2, 0.8, 17.0, 42.0])\n",
    "success = rmi_db.insert(keys)\n",
    "pos = rmi_db.select(keys)\n",
    "print(\"Insert multiple keys:\")\n",
    "print(\" Success: {}\\n Keys: {}\\n Pos: {}\\n\".format(np.squeeze(success),\n",
    "                                                   np.squeeze(keys),\n",
    "                                                   np.squeeze(pos)))\n",
    "# Insert existing key\n",
    "keys = np.array([0.5])\n",
    "success = rmi_db.insert(keys)\n",
    "pos = rmi_db.select(keys)\n",
    "print(\"Insert existing key:\")\n",
    "print(\" Success: {}\\n Keys: {}\\n Pos: {}\\n\".format(np.squeeze(success),\n",
    "                                                   np.squeeze(keys),\n",
    "                                                   np.squeeze(pos)))"
   ]
  },
  {
   "cell_type": "markdown",
   "metadata": {},
   "source": [
    "## Delete, example usage"
   ]
  },
  {
   "cell_type": "code",
   "execution_count": 9,
   "metadata": {},
   "outputs": [
    {
     "name": "stdout",
     "output_type": "stream",
     "text": [
      "Delete single key:\n",
      " Success: True\n",
      " Key: 0.5\n",
      " Pos after deletion: -1\n",
      "\n",
      "Delete multiple keys:\n",
      " Success: [ True  True  True  True  True  True]\n",
      " Keys: [-42.  -17.    0.2   0.8  17.   42. ]\n",
      " Pos after deletion: [-1 -1 -1 -1 -1 -1]\n",
      "\n",
      "Delete non-existing key:\n",
      " Success: False\n",
      " Keys: 0.5\n",
      " Pos after deletion: -1\n",
      "\n",
      "Note: Pos=-1 indicates that the key is not in the dataset.\n"
     ]
    }
   ],
   "source": [
    "## Use Delete, some examples\n",
    "\n",
    "# Delete single key\n",
    "keys = np.array([0.5])\n",
    "success = rmi_db.delete(keys)\n",
    "pos = rmi_db.select(keys)\n",
    "print(\"Delete single key:\")\n",
    "print(\" Success: {}\\n Key: {}\\n Pos after deletion: {}\\n\".format(np.squeeze(success),\n",
    "                                                   np.squeeze(keys),\n",
    "                                                   np.squeeze(pos)))\n",
    "\n",
    "# Delete multiple keys\n",
    "keys = np.array([-42.0, -17.0, 0.2, 0.8, 17.0, 42.0])\n",
    "success = rmi_db.delete(keys)\n",
    "pos = rmi_db.select(keys)\n",
    "print(\"Delete multiple keys:\")\n",
    "print(\" Success: {}\\n Keys: {}\\n Pos after deletion: {}\\n\".format(np.squeeze(success),\n",
    "                                                   np.squeeze(keys),\n",
    "                                                   np.squeeze(pos)))\n",
    "# Delete non-existing key\n",
    "keys = np.array([0.5])\n",
    "success = rmi_db.delete(keys)\n",
    "pos = rmi_db.select(keys)\n",
    "print(\"Delete non-existing key:\")\n",
    "print(\" Success: {}\\n Keys: {}\\n Pos after deletion: {}\\n\".format(np.squeeze(success),\n",
    "                                                   np.squeeze(keys),\n",
    "                                                   np.squeeze(pos)))\n",
    "\n",
    "print(\"Note: Pos=-1 indicates that the key is not in the dataset.\")"
   ]
  },
  {
   "cell_type": "markdown",
   "metadata": {},
   "source": [
    "## Retrain the model if needed"
   ]
  },
  {
   "cell_type": "code",
   "execution_count": 10,
   "metadata": {},
   "outputs": [
    {
     "name": "stdout",
     "output_type": "stream",
     "text": [
      "Stage 1 Training:\n",
      "Step 0: loss = 39780.80 (0.048 sec, total 0.048 secs)\n",
      "Step 100: loss = 41813.46 (0.006 sec, total 0.398 secs)\n",
      "Step 200: loss = 18912.00 (0.006 sec, total 0.908 secs)\n",
      "Step 300: loss = 8783.54 (0.006 sec, total 1.286 secs)\n",
      "Step 400: loss = 4011.18 (0.009 sec, total 1.668 secs)\n",
      "\n",
      "Stage 2 Training:\n",
      "Step 0: loss = 102250.53 (0.061 sec, total 2.197 secs)\n",
      "Step 100: loss = 20968.05 (0.012 sec, total 3.276 secs)\n",
      "Step 200: loss = 2277.74 (0.012 sec, total 4.249 secs)\n",
      "Step 300: loss = 427.80 (0.012 sec, total 5.198 secs)\n",
      "Step 400: loss = 408.62 (0.020 sec, total 6.154 secs)\n",
      "INFO:tensorflow:Restoring parameters from tf_checkpoints_example/stage_2.ckpt\n"
     ]
    }
   ],
   "source": [
    "## Retrain the model after many insertions and/or deletions.\n",
    "\n",
    "rmi_db.train()"
   ]
  },
  {
   "cell_type": "code",
   "execution_count": null,
   "metadata": {
    "collapsed": true
   },
   "outputs": [],
   "source": []
  }
 ],
 "metadata": {
  "kernelspec": {
   "display_name": "Python 3",
   "language": "python",
   "name": "python3"
  },
  "language_info": {
   "codemirror_mode": {
    "name": "ipython",
    "version": 3
   },
   "file_extension": ".py",
   "mimetype": "text/x-python",
   "name": "python",
   "nbconvert_exporter": "python",
   "pygments_lexer": "ipython3",
   "version": "3.5.4"
  }
 },
 "nbformat": 4,
 "nbformat_minor": 2
}
